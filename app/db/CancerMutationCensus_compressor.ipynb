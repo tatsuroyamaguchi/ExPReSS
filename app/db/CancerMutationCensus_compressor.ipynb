{
 "cells": [
  {
   "cell_type": "code",
   "execution_count": 1,
   "id": "b0f49909",
   "metadata": {},
   "outputs": [],
   "source": [
    "import pandas as pd\n",
    "import glob\n",
    "import os\n",
    "\n",
    "input_pattern = \"CancerMutationCensus_AllData_v*_GRCh37.tsv.gz\"\n",
    "input_files = glob.glob(input_pattern)\n",
    "input_file = input_files[0]\n",
    "\n",
    "base_name = os.path.splitext(os.path.splitext(input_file)[0])[0]\n",
    "output_file = base_name + \"_va.tsv.gz\"\n",
    "\n",
    "columns_to_extract = [\n",
    "    \"GENE_NAME\",\n",
    "    \"Mutation CDS\",\n",
    "    \"COSMIC_SAMPLE_TESTED\",\n",
    "    \"COSMIC_SAMPLE_MUTATED\",\n",
    "    \"Mutation AA\"\n",
    "]\n",
    "df = pd.read_csv(input_file, sep=\"\\t\", compression=\"gzip\", usecols=columns_to_extract)\n",
    "df.to_csv(output_file, sep=\"\\t\", index=False, compression=\"gzip\")"
   ]
  }
 ],
 "metadata": {
  "kernelspec": {
   "display_name": "Python 3",
   "language": "python",
   "name": "python3"
  },
  "language_info": {
   "codemirror_mode": {
    "name": "ipython",
    "version": 3
   },
   "file_extension": ".py",
   "mimetype": "text/x-python",
   "name": "python",
   "nbconvert_exporter": "python",
   "pygments_lexer": "ipython3",
   "version": "3.13.0"
  }
 },
 "nbformat": 4,
 "nbformat_minor": 5
}
